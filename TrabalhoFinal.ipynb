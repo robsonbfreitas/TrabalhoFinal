{
  "nbformat": 4,
  "nbformat_minor": 0,
  "metadata": {
    "colab": {
      "name": "TrabalhoFinal.ipynb",
      "provenance": [],
      "authorship_tag": "ABX9TyOMm6fCL55a+OoXc6KIoF8H",
      "include_colab_link": true
    },
    "kernelspec": {
      "name": "python3",
      "display_name": "Python 3"
    }
  },
  "cells": [
    {
      "cell_type": "markdown",
      "metadata": {
        "id": "view-in-github",
        "colab_type": "text"
      },
      "source": [
        "<a href=\"https://colab.research.google.com/github/robsonbfreitas/TrabalhoFinal/blob/main/TrabalhoFinal.ipynb\" target=\"_parent\"><img src=\"https://colab.research.google.com/assets/colab-badge.svg\" alt=\"Open In Colab\"/></a>"
      ]
    },
    {
      "cell_type": "code",
      "metadata": {
        "id": "0n7U3ZLm3n2b"
      },
      "source": [
        "#Importando bibliotecas\n",
        "import pandas as pd\n",
        "from sklearn.linear_model import LinearRegression\n",
        "from sklearn.metrics import r2_score\n",
        "import matplotlib.pyplot as plt\n",
        "import seaborn as sns"
      ],
      "execution_count": 2,
      "outputs": []
    },
    {
      "cell_type": "markdown",
      "metadata": {
        "id": "FGm6pX5T7t17"
      },
      "source": [
        "**Carregando os arquivos a serem utilizados no modelo**\n",
        "\n",
        "Features.csv - Arquivo que contém informações como: valores utilizados em feriados, indicador de feriado\n",
        "\n",
        "train.csv - Arquivo que contém os valores de vendas\n",
        "\n",
        "---\n",
        "\n"
      ]
    },
    {
      "cell_type": "code",
      "metadata": {
        "id": "DdHwx7wA5mha"
      },
      "source": [
        "df = pd.read_csv('features.csv')\n",
        "#dftest = pd.read_csv('test.csv')\n",
        "dftrain = pd.read_csv('train.csv')\n",
        "#df.head()"
      ],
      "execution_count": 3,
      "outputs": []
    },
    {
      "cell_type": "markdown",
      "metadata": {
        "id": "iUoNsk2d8gDQ"
      },
      "source": [
        "Separando dados para testes e dados de treino"
      ]
    },
    {
      "cell_type": "code",
      "metadata": {
        "id": "4pcazxvPiPmo",
        "colab": {
          "base_uri": "https://localhost:8080/",
          "height": 204
        },
        "outputId": "b90083cb-06ca-4d9f-dba6-3e105c835a29"
      },
      "source": [
        "df_teste = dftrain.query('Store >= 23')\n",
        "df_train = dftrain.query('Store < 23')\n",
        "df_teste.head()"
      ],
      "execution_count": 4,
      "outputs": [
        {
          "output_type": "execute_result",
          "data": {
            "text/html": [
              "<div>\n",
              "<style scoped>\n",
              "    .dataframe tbody tr th:only-of-type {\n",
              "        vertical-align: middle;\n",
              "    }\n",
              "\n",
              "    .dataframe tbody tr th {\n",
              "        vertical-align: top;\n",
              "    }\n",
              "\n",
              "    .dataframe thead th {\n",
              "        text-align: right;\n",
              "    }\n",
              "</style>\n",
              "<table border=\"1\" class=\"dataframe\">\n",
              "  <thead>\n",
              "    <tr style=\"text-align: right;\">\n",
              "      <th></th>\n",
              "      <th>Store</th>\n",
              "      <th>Dept</th>\n",
              "      <th>Date</th>\n",
              "      <th>Weekly_Sales</th>\n",
              "      <th>IsHoliday</th>\n",
              "    </tr>\n",
              "  </thead>\n",
              "  <tbody>\n",
              "    <tr>\n",
              "      <th>216819</th>\n",
              "      <td>23</td>\n",
              "      <td>1</td>\n",
              "      <td>2010-02-05</td>\n",
              "      <td>32452.79</td>\n",
              "      <td>False</td>\n",
              "    </tr>\n",
              "    <tr>\n",
              "      <th>216820</th>\n",
              "      <td>23</td>\n",
              "      <td>1</td>\n",
              "      <td>2010-02-12</td>\n",
              "      <td>50360.71</td>\n",
              "      <td>True</td>\n",
              "    </tr>\n",
              "    <tr>\n",
              "      <th>216821</th>\n",
              "      <td>23</td>\n",
              "      <td>1</td>\n",
              "      <td>2010-02-19</td>\n",
              "      <td>28504.70</td>\n",
              "      <td>False</td>\n",
              "    </tr>\n",
              "    <tr>\n",
              "      <th>216822</th>\n",
              "      <td>23</td>\n",
              "      <td>1</td>\n",
              "      <td>2010-02-26</td>\n",
              "      <td>23033.73</td>\n",
              "      <td>False</td>\n",
              "    </tr>\n",
              "    <tr>\n",
              "      <th>216823</th>\n",
              "      <td>23</td>\n",
              "      <td>1</td>\n",
              "      <td>2010-03-05</td>\n",
              "      <td>29662.30</td>\n",
              "      <td>False</td>\n",
              "    </tr>\n",
              "  </tbody>\n",
              "</table>\n",
              "</div>"
            ],
            "text/plain": [
              "        Store  Dept        Date  Weekly_Sales  IsHoliday\n",
              "216819     23     1  2010-02-05      32452.79      False\n",
              "216820     23     1  2010-02-12      50360.71       True\n",
              "216821     23     1  2010-02-19      28504.70      False\n",
              "216822     23     1  2010-02-26      23033.73      False\n",
              "216823     23     1  2010-03-05      29662.30      False"
            ]
          },
          "metadata": {
            "tags": []
          },
          "execution_count": 4
        }
      ]
    },
    {
      "cell_type": "code",
      "metadata": {
        "id": "IWR5ooIulhna",
        "colab": {
          "base_uri": "https://localhost:8080/"
        },
        "outputId": "331c9bd5-c955-42a0-f2fa-a81704bc939d"
      },
      "source": [
        "df_teste.shape"
      ],
      "execution_count": 5,
      "outputs": [
        {
          "output_type": "execute_result",
          "data": {
            "text/plain": [
              "(204751, 5)"
            ]
          },
          "metadata": {
            "tags": []
          },
          "execution_count": 5
        }
      ]
    },
    {
      "cell_type": "code",
      "metadata": {
        "id": "Rcy0V_8il1cH",
        "colab": {
          "base_uri": "https://localhost:8080/"
        },
        "outputId": "293038c7-8336-48a4-e8c4-49ee299a8c43"
      },
      "source": [
        "df_train.shape"
      ],
      "execution_count": 6,
      "outputs": [
        {
          "output_type": "execute_result",
          "data": {
            "text/plain": [
              "(216819, 5)"
            ]
          },
          "metadata": {
            "tags": []
          },
          "execution_count": 6
        }
      ]
    },
    {
      "cell_type": "code",
      "metadata": {
        "id": "9WexH1JmDmeO"
      },
      "source": [
        "#frames = [df, dftrain]\n",
        "df_testeFeature = df_teste.merge(df, on=['Store','Date'], how='left')\n",
        "df_trainFeature = df_train.merge(df, on=['Store','Date'], how='left')"
      ],
      "execution_count": 5,
      "outputs": []
    },
    {
      "cell_type": "code",
      "metadata": {
        "colab": {
          "base_uri": "https://localhost:8080/",
          "height": 204
        },
        "id": "qISQfVqh5vrd",
        "outputId": "547d5dd1-1287-4e31-d313-e1bb7fd208e8"
      },
      "source": [
        "df_XTrain = df_trainFeature[['Store','Date','IsHoliday_y', 'Dept', 'Weekly_Sales','MarkDown1','MarkDown2','MarkDown3','MarkDown4','MarkDown5']]\n",
        "df_XTrain.head()"
      ],
      "execution_count": 6,
      "outputs": [
        {
          "output_type": "execute_result",
          "data": {
            "text/html": [
              "<div>\n",
              "<style scoped>\n",
              "    .dataframe tbody tr th:only-of-type {\n",
              "        vertical-align: middle;\n",
              "    }\n",
              "\n",
              "    .dataframe tbody tr th {\n",
              "        vertical-align: top;\n",
              "    }\n",
              "\n",
              "    .dataframe thead th {\n",
              "        text-align: right;\n",
              "    }\n",
              "</style>\n",
              "<table border=\"1\" class=\"dataframe\">\n",
              "  <thead>\n",
              "    <tr style=\"text-align: right;\">\n",
              "      <th></th>\n",
              "      <th>Store</th>\n",
              "      <th>Date</th>\n",
              "      <th>IsHoliday_y</th>\n",
              "      <th>Dept</th>\n",
              "      <th>Weekly_Sales</th>\n",
              "      <th>MarkDown1</th>\n",
              "      <th>MarkDown2</th>\n",
              "      <th>MarkDown3</th>\n",
              "      <th>MarkDown4</th>\n",
              "      <th>MarkDown5</th>\n",
              "    </tr>\n",
              "  </thead>\n",
              "  <tbody>\n",
              "    <tr>\n",
              "      <th>0</th>\n",
              "      <td>1</td>\n",
              "      <td>2010-02-05</td>\n",
              "      <td>False</td>\n",
              "      <td>1</td>\n",
              "      <td>24924.50</td>\n",
              "      <td>NaN</td>\n",
              "      <td>NaN</td>\n",
              "      <td>NaN</td>\n",
              "      <td>NaN</td>\n",
              "      <td>NaN</td>\n",
              "    </tr>\n",
              "    <tr>\n",
              "      <th>1</th>\n",
              "      <td>1</td>\n",
              "      <td>2010-02-12</td>\n",
              "      <td>True</td>\n",
              "      <td>1</td>\n",
              "      <td>46039.49</td>\n",
              "      <td>NaN</td>\n",
              "      <td>NaN</td>\n",
              "      <td>NaN</td>\n",
              "      <td>NaN</td>\n",
              "      <td>NaN</td>\n",
              "    </tr>\n",
              "    <tr>\n",
              "      <th>2</th>\n",
              "      <td>1</td>\n",
              "      <td>2010-02-19</td>\n",
              "      <td>False</td>\n",
              "      <td>1</td>\n",
              "      <td>41595.55</td>\n",
              "      <td>NaN</td>\n",
              "      <td>NaN</td>\n",
              "      <td>NaN</td>\n",
              "      <td>NaN</td>\n",
              "      <td>NaN</td>\n",
              "    </tr>\n",
              "    <tr>\n",
              "      <th>3</th>\n",
              "      <td>1</td>\n",
              "      <td>2010-02-26</td>\n",
              "      <td>False</td>\n",
              "      <td>1</td>\n",
              "      <td>19403.54</td>\n",
              "      <td>NaN</td>\n",
              "      <td>NaN</td>\n",
              "      <td>NaN</td>\n",
              "      <td>NaN</td>\n",
              "      <td>NaN</td>\n",
              "    </tr>\n",
              "    <tr>\n",
              "      <th>4</th>\n",
              "      <td>1</td>\n",
              "      <td>2010-03-05</td>\n",
              "      <td>False</td>\n",
              "      <td>1</td>\n",
              "      <td>21827.90</td>\n",
              "      <td>NaN</td>\n",
              "      <td>NaN</td>\n",
              "      <td>NaN</td>\n",
              "      <td>NaN</td>\n",
              "      <td>NaN</td>\n",
              "    </tr>\n",
              "  </tbody>\n",
              "</table>\n",
              "</div>"
            ],
            "text/plain": [
              "   Store        Date  IsHoliday_y  ...  MarkDown3  MarkDown4  MarkDown5\n",
              "0      1  2010-02-05        False  ...        NaN        NaN        NaN\n",
              "1      1  2010-02-12         True  ...        NaN        NaN        NaN\n",
              "2      1  2010-02-19        False  ...        NaN        NaN        NaN\n",
              "3      1  2010-02-26        False  ...        NaN        NaN        NaN\n",
              "4      1  2010-03-05        False  ...        NaN        NaN        NaN\n",
              "\n",
              "[5 rows x 10 columns]"
            ]
          },
          "metadata": {
            "tags": []
          },
          "execution_count": 6
        }
      ]
    },
    {
      "cell_type": "code",
      "metadata": {
        "colab": {
          "base_uri": "https://localhost:8080/",
          "height": 204
        },
        "id": "oPRX8rzHS_5u",
        "outputId": "4a3075c0-24e2-4c64-c83f-184c552b1984"
      },
      "source": [
        " df_XTeste = df_testeFeature[['Store','Date','IsHoliday_y', 'Dept', 'Weekly_Sales','MarkDown1','MarkDown2','MarkDown3','MarkDown4','MarkDown5']]\n",
        "df_XTeste.head()"
      ],
      "execution_count": 7,
      "outputs": [
        {
          "output_type": "execute_result",
          "data": {
            "text/html": [
              "<div>\n",
              "<style scoped>\n",
              "    .dataframe tbody tr th:only-of-type {\n",
              "        vertical-align: middle;\n",
              "    }\n",
              "\n",
              "    .dataframe tbody tr th {\n",
              "        vertical-align: top;\n",
              "    }\n",
              "\n",
              "    .dataframe thead th {\n",
              "        text-align: right;\n",
              "    }\n",
              "</style>\n",
              "<table border=\"1\" class=\"dataframe\">\n",
              "  <thead>\n",
              "    <tr style=\"text-align: right;\">\n",
              "      <th></th>\n",
              "      <th>Store</th>\n",
              "      <th>Date</th>\n",
              "      <th>IsHoliday_y</th>\n",
              "      <th>Dept</th>\n",
              "      <th>Weekly_Sales</th>\n",
              "      <th>MarkDown1</th>\n",
              "      <th>MarkDown2</th>\n",
              "      <th>MarkDown3</th>\n",
              "      <th>MarkDown4</th>\n",
              "      <th>MarkDown5</th>\n",
              "    </tr>\n",
              "  </thead>\n",
              "  <tbody>\n",
              "    <tr>\n",
              "      <th>0</th>\n",
              "      <td>23</td>\n",
              "      <td>2010-02-05</td>\n",
              "      <td>False</td>\n",
              "      <td>1</td>\n",
              "      <td>32452.79</td>\n",
              "      <td>NaN</td>\n",
              "      <td>NaN</td>\n",
              "      <td>NaN</td>\n",
              "      <td>NaN</td>\n",
              "      <td>NaN</td>\n",
              "    </tr>\n",
              "    <tr>\n",
              "      <th>1</th>\n",
              "      <td>23</td>\n",
              "      <td>2010-02-12</td>\n",
              "      <td>True</td>\n",
              "      <td>1</td>\n",
              "      <td>50360.71</td>\n",
              "      <td>NaN</td>\n",
              "      <td>NaN</td>\n",
              "      <td>NaN</td>\n",
              "      <td>NaN</td>\n",
              "      <td>NaN</td>\n",
              "    </tr>\n",
              "    <tr>\n",
              "      <th>2</th>\n",
              "      <td>23</td>\n",
              "      <td>2010-02-19</td>\n",
              "      <td>False</td>\n",
              "      <td>1</td>\n",
              "      <td>28504.70</td>\n",
              "      <td>NaN</td>\n",
              "      <td>NaN</td>\n",
              "      <td>NaN</td>\n",
              "      <td>NaN</td>\n",
              "      <td>NaN</td>\n",
              "    </tr>\n",
              "    <tr>\n",
              "      <th>3</th>\n",
              "      <td>23</td>\n",
              "      <td>2010-02-26</td>\n",
              "      <td>False</td>\n",
              "      <td>1</td>\n",
              "      <td>23033.73</td>\n",
              "      <td>NaN</td>\n",
              "      <td>NaN</td>\n",
              "      <td>NaN</td>\n",
              "      <td>NaN</td>\n",
              "      <td>NaN</td>\n",
              "    </tr>\n",
              "    <tr>\n",
              "      <th>4</th>\n",
              "      <td>23</td>\n",
              "      <td>2010-03-05</td>\n",
              "      <td>False</td>\n",
              "      <td>1</td>\n",
              "      <td>29662.30</td>\n",
              "      <td>NaN</td>\n",
              "      <td>NaN</td>\n",
              "      <td>NaN</td>\n",
              "      <td>NaN</td>\n",
              "      <td>NaN</td>\n",
              "    </tr>\n",
              "  </tbody>\n",
              "</table>\n",
              "</div>"
            ],
            "text/plain": [
              "   Store        Date  IsHoliday_y  ...  MarkDown3  MarkDown4  MarkDown5\n",
              "0     23  2010-02-05        False  ...        NaN        NaN        NaN\n",
              "1     23  2010-02-12         True  ...        NaN        NaN        NaN\n",
              "2     23  2010-02-19        False  ...        NaN        NaN        NaN\n",
              "3     23  2010-02-26        False  ...        NaN        NaN        NaN\n",
              "4     23  2010-03-05        False  ...        NaN        NaN        NaN\n",
              "\n",
              "[5 rows x 10 columns]"
            ]
          },
          "metadata": {
            "tags": []
          },
          "execution_count": 7
        }
      ]
    },
    {
      "cell_type": "code",
      "metadata": {
        "id": "N0sP5yY85im6",
        "colab": {
          "base_uri": "https://localhost:8080/"
        },
        "outputId": "9f9298b8-0eda-447c-a3c1-fdb70bb0c750"
      },
      "source": [
        "df_XTrain['Date'] = pd.to_datetime(df_XTrain['Date'])\n",
        "df_XTeste['Date'] = pd.to_datetime(df_XTeste['Date'])"
      ],
      "execution_count": 8,
      "outputs": [
        {
          "output_type": "stream",
          "text": [
            "/usr/local/lib/python3.7/dist-packages/ipykernel_launcher.py:1: SettingWithCopyWarning: \n",
            "A value is trying to be set on a copy of a slice from a DataFrame.\n",
            "Try using .loc[row_indexer,col_indexer] = value instead\n",
            "\n",
            "See the caveats in the documentation: https://pandas.pydata.org/pandas-docs/stable/user_guide/indexing.html#returning-a-view-versus-a-copy\n",
            "  \"\"\"Entry point for launching an IPython kernel.\n",
            "/usr/local/lib/python3.7/dist-packages/ipykernel_launcher.py:2: SettingWithCopyWarning: \n",
            "A value is trying to be set on a copy of a slice from a DataFrame.\n",
            "Try using .loc[row_indexer,col_indexer] = value instead\n",
            "\n",
            "See the caveats in the documentation: https://pandas.pydata.org/pandas-docs/stable/user_guide/indexing.html#returning-a-view-versus-a-copy\n",
            "  \n"
          ],
          "name": "stderr"
        }
      ]
    },
    {
      "cell_type": "markdown",
      "metadata": {
        "id": "_5lfKa5iyem7"
      },
      "source": [
        "Setando a coluna Date como índice\n"
      ]
    },
    {
      "cell_type": "code",
      "metadata": {
        "id": "0Yu1bnIS7E7A"
      },
      "source": [
        "df_XTrain.set_index(['Date'], inplace=True)\n",
        "df_XTeste.set_index(['Date'], inplace=True)"
      ],
      "execution_count": 9,
      "outputs": []
    },
    {
      "cell_type": "code",
      "metadata": {
        "colab": {
          "base_uri": "https://localhost:8080/",
          "height": 235
        },
        "id": "-6EnGAB79qtm",
        "outputId": "19e13d19-5d7e-409e-a974-60cd3e63a2bb"
      },
      "source": [
        "df_XTrain.head()"
      ],
      "execution_count": 10,
      "outputs": [
        {
          "output_type": "execute_result",
          "data": {
            "text/html": [
              "<div>\n",
              "<style scoped>\n",
              "    .dataframe tbody tr th:only-of-type {\n",
              "        vertical-align: middle;\n",
              "    }\n",
              "\n",
              "    .dataframe tbody tr th {\n",
              "        vertical-align: top;\n",
              "    }\n",
              "\n",
              "    .dataframe thead th {\n",
              "        text-align: right;\n",
              "    }\n",
              "</style>\n",
              "<table border=\"1\" class=\"dataframe\">\n",
              "  <thead>\n",
              "    <tr style=\"text-align: right;\">\n",
              "      <th></th>\n",
              "      <th>Store</th>\n",
              "      <th>IsHoliday_y</th>\n",
              "      <th>Dept</th>\n",
              "      <th>Weekly_Sales</th>\n",
              "      <th>MarkDown1</th>\n",
              "      <th>MarkDown2</th>\n",
              "      <th>MarkDown3</th>\n",
              "      <th>MarkDown4</th>\n",
              "      <th>MarkDown5</th>\n",
              "    </tr>\n",
              "    <tr>\n",
              "      <th>Date</th>\n",
              "      <th></th>\n",
              "      <th></th>\n",
              "      <th></th>\n",
              "      <th></th>\n",
              "      <th></th>\n",
              "      <th></th>\n",
              "      <th></th>\n",
              "      <th></th>\n",
              "      <th></th>\n",
              "    </tr>\n",
              "  </thead>\n",
              "  <tbody>\n",
              "    <tr>\n",
              "      <th>2010-02-05</th>\n",
              "      <td>1</td>\n",
              "      <td>False</td>\n",
              "      <td>1</td>\n",
              "      <td>24924.50</td>\n",
              "      <td>NaN</td>\n",
              "      <td>NaN</td>\n",
              "      <td>NaN</td>\n",
              "      <td>NaN</td>\n",
              "      <td>NaN</td>\n",
              "    </tr>\n",
              "    <tr>\n",
              "      <th>2010-02-12</th>\n",
              "      <td>1</td>\n",
              "      <td>True</td>\n",
              "      <td>1</td>\n",
              "      <td>46039.49</td>\n",
              "      <td>NaN</td>\n",
              "      <td>NaN</td>\n",
              "      <td>NaN</td>\n",
              "      <td>NaN</td>\n",
              "      <td>NaN</td>\n",
              "    </tr>\n",
              "    <tr>\n",
              "      <th>2010-02-19</th>\n",
              "      <td>1</td>\n",
              "      <td>False</td>\n",
              "      <td>1</td>\n",
              "      <td>41595.55</td>\n",
              "      <td>NaN</td>\n",
              "      <td>NaN</td>\n",
              "      <td>NaN</td>\n",
              "      <td>NaN</td>\n",
              "      <td>NaN</td>\n",
              "    </tr>\n",
              "    <tr>\n",
              "      <th>2010-02-26</th>\n",
              "      <td>1</td>\n",
              "      <td>False</td>\n",
              "      <td>1</td>\n",
              "      <td>19403.54</td>\n",
              "      <td>NaN</td>\n",
              "      <td>NaN</td>\n",
              "      <td>NaN</td>\n",
              "      <td>NaN</td>\n",
              "      <td>NaN</td>\n",
              "    </tr>\n",
              "    <tr>\n",
              "      <th>2010-03-05</th>\n",
              "      <td>1</td>\n",
              "      <td>False</td>\n",
              "      <td>1</td>\n",
              "      <td>21827.90</td>\n",
              "      <td>NaN</td>\n",
              "      <td>NaN</td>\n",
              "      <td>NaN</td>\n",
              "      <td>NaN</td>\n",
              "      <td>NaN</td>\n",
              "    </tr>\n",
              "  </tbody>\n",
              "</table>\n",
              "</div>"
            ],
            "text/plain": [
              "            Store  IsHoliday_y  Dept  ...  MarkDown3  MarkDown4  MarkDown5\n",
              "Date                                  ...                                 \n",
              "2010-02-05      1        False     1  ...        NaN        NaN        NaN\n",
              "2010-02-12      1         True     1  ...        NaN        NaN        NaN\n",
              "2010-02-19      1        False     1  ...        NaN        NaN        NaN\n",
              "2010-02-26      1        False     1  ...        NaN        NaN        NaN\n",
              "2010-03-05      1        False     1  ...        NaN        NaN        NaN\n",
              "\n",
              "[5 rows x 9 columns]"
            ]
          },
          "metadata": {
            "tags": []
          },
          "execution_count": 10
        }
      ]
    },
    {
      "cell_type": "code",
      "metadata": {
        "colab": {
          "base_uri": "https://localhost:8080/",
          "height": 235
        },
        "id": "XG23i-P5VIxR",
        "outputId": "427c6d2c-eafb-4280-aa3f-fa0a728b8211"
      },
      "source": [
        "df_XTeste.head()"
      ],
      "execution_count": 11,
      "outputs": [
        {
          "output_type": "execute_result",
          "data": {
            "text/html": [
              "<div>\n",
              "<style scoped>\n",
              "    .dataframe tbody tr th:only-of-type {\n",
              "        vertical-align: middle;\n",
              "    }\n",
              "\n",
              "    .dataframe tbody tr th {\n",
              "        vertical-align: top;\n",
              "    }\n",
              "\n",
              "    .dataframe thead th {\n",
              "        text-align: right;\n",
              "    }\n",
              "</style>\n",
              "<table border=\"1\" class=\"dataframe\">\n",
              "  <thead>\n",
              "    <tr style=\"text-align: right;\">\n",
              "      <th></th>\n",
              "      <th>Store</th>\n",
              "      <th>IsHoliday_y</th>\n",
              "      <th>Dept</th>\n",
              "      <th>Weekly_Sales</th>\n",
              "      <th>MarkDown1</th>\n",
              "      <th>MarkDown2</th>\n",
              "      <th>MarkDown3</th>\n",
              "      <th>MarkDown4</th>\n",
              "      <th>MarkDown5</th>\n",
              "    </tr>\n",
              "    <tr>\n",
              "      <th>Date</th>\n",
              "      <th></th>\n",
              "      <th></th>\n",
              "      <th></th>\n",
              "      <th></th>\n",
              "      <th></th>\n",
              "      <th></th>\n",
              "      <th></th>\n",
              "      <th></th>\n",
              "      <th></th>\n",
              "    </tr>\n",
              "  </thead>\n",
              "  <tbody>\n",
              "    <tr>\n",
              "      <th>2010-02-05</th>\n",
              "      <td>23</td>\n",
              "      <td>False</td>\n",
              "      <td>1</td>\n",
              "      <td>32452.79</td>\n",
              "      <td>NaN</td>\n",
              "      <td>NaN</td>\n",
              "      <td>NaN</td>\n",
              "      <td>NaN</td>\n",
              "      <td>NaN</td>\n",
              "    </tr>\n",
              "    <tr>\n",
              "      <th>2010-02-12</th>\n",
              "      <td>23</td>\n",
              "      <td>True</td>\n",
              "      <td>1</td>\n",
              "      <td>50360.71</td>\n",
              "      <td>NaN</td>\n",
              "      <td>NaN</td>\n",
              "      <td>NaN</td>\n",
              "      <td>NaN</td>\n",
              "      <td>NaN</td>\n",
              "    </tr>\n",
              "    <tr>\n",
              "      <th>2010-02-19</th>\n",
              "      <td>23</td>\n",
              "      <td>False</td>\n",
              "      <td>1</td>\n",
              "      <td>28504.70</td>\n",
              "      <td>NaN</td>\n",
              "      <td>NaN</td>\n",
              "      <td>NaN</td>\n",
              "      <td>NaN</td>\n",
              "      <td>NaN</td>\n",
              "    </tr>\n",
              "    <tr>\n",
              "      <th>2010-02-26</th>\n",
              "      <td>23</td>\n",
              "      <td>False</td>\n",
              "      <td>1</td>\n",
              "      <td>23033.73</td>\n",
              "      <td>NaN</td>\n",
              "      <td>NaN</td>\n",
              "      <td>NaN</td>\n",
              "      <td>NaN</td>\n",
              "      <td>NaN</td>\n",
              "    </tr>\n",
              "    <tr>\n",
              "      <th>2010-03-05</th>\n",
              "      <td>23</td>\n",
              "      <td>False</td>\n",
              "      <td>1</td>\n",
              "      <td>29662.30</td>\n",
              "      <td>NaN</td>\n",
              "      <td>NaN</td>\n",
              "      <td>NaN</td>\n",
              "      <td>NaN</td>\n",
              "      <td>NaN</td>\n",
              "    </tr>\n",
              "  </tbody>\n",
              "</table>\n",
              "</div>"
            ],
            "text/plain": [
              "            Store  IsHoliday_y  Dept  ...  MarkDown3  MarkDown4  MarkDown5\n",
              "Date                                  ...                                 \n",
              "2010-02-05     23        False     1  ...        NaN        NaN        NaN\n",
              "2010-02-12     23         True     1  ...        NaN        NaN        NaN\n",
              "2010-02-19     23        False     1  ...        NaN        NaN        NaN\n",
              "2010-02-26     23        False     1  ...        NaN        NaN        NaN\n",
              "2010-03-05     23        False     1  ...        NaN        NaN        NaN\n",
              "\n",
              "[5 rows x 9 columns]"
            ]
          },
          "metadata": {
            "tags": []
          },
          "execution_count": 11
        }
      ]
    },
    {
      "cell_type": "markdown",
      "metadata": {
        "id": "0lwSPTz7yt3f"
      },
      "source": [
        "Trocando NaN por zero nos dataframes de treino e testes"
      ]
    },
    {
      "cell_type": "code",
      "metadata": {
        "colab": {
          "base_uri": "https://localhost:8080/"
        },
        "id": "t6lxNPXFocp9",
        "outputId": "79ac45f5-b536-4040-ea40-55b87b8a6e90"
      },
      "source": [
        "df_XTrain.fillna(0, inplace=True)\n",
        "df_XTeste.fillna(0, inplace=True)"
      ],
      "execution_count": 12,
      "outputs": [
        {
          "output_type": "stream",
          "text": [
            "/usr/local/lib/python3.7/dist-packages/pandas/core/frame.py:4327: SettingWithCopyWarning: \n",
            "A value is trying to be set on a copy of a slice from a DataFrame\n",
            "\n",
            "See the caveats in the documentation: https://pandas.pydata.org/pandas-docs/stable/user_guide/indexing.html#returning-a-view-versus-a-copy\n",
            "  downcast=downcast,\n"
          ],
          "name": "stderr"
        }
      ]
    },
    {
      "cell_type": "code",
      "metadata": {
        "colab": {
          "base_uri": "https://localhost:8080/",
          "height": 450
        },
        "id": "3-SZLw_dpWZ3",
        "outputId": "1472adab-1bad-4d1b-c4ec-1e77a4d7c317"
      },
      "source": [
        "df_XTeste.tail(10000)"
      ],
      "execution_count": 13,
      "outputs": [
        {
          "output_type": "execute_result",
          "data": {
            "text/html": [
              "<div>\n",
              "<style scoped>\n",
              "    .dataframe tbody tr th:only-of-type {\n",
              "        vertical-align: middle;\n",
              "    }\n",
              "\n",
              "    .dataframe tbody tr th {\n",
              "        vertical-align: top;\n",
              "    }\n",
              "\n",
              "    .dataframe thead th {\n",
              "        text-align: right;\n",
              "    }\n",
              "</style>\n",
              "<table border=\"1\" class=\"dataframe\">\n",
              "  <thead>\n",
              "    <tr style=\"text-align: right;\">\n",
              "      <th></th>\n",
              "      <th>Store</th>\n",
              "      <th>IsHoliday_y</th>\n",
              "      <th>Dept</th>\n",
              "      <th>Weekly_Sales</th>\n",
              "      <th>MarkDown1</th>\n",
              "      <th>MarkDown2</th>\n",
              "      <th>MarkDown3</th>\n",
              "      <th>MarkDown4</th>\n",
              "      <th>MarkDown5</th>\n",
              "    </tr>\n",
              "    <tr>\n",
              "      <th>Date</th>\n",
              "      <th></th>\n",
              "      <th></th>\n",
              "      <th></th>\n",
              "      <th></th>\n",
              "      <th></th>\n",
              "      <th></th>\n",
              "      <th></th>\n",
              "      <th></th>\n",
              "      <th></th>\n",
              "    </tr>\n",
              "  </thead>\n",
              "  <tbody>\n",
              "    <tr>\n",
              "      <th>2011-05-27</th>\n",
              "      <td>44</td>\n",
              "      <td>False</td>\n",
              "      <td>96</td>\n",
              "      <td>3138.26</td>\n",
              "      <td>0.00</td>\n",
              "      <td>0.00</td>\n",
              "      <td>0.00</td>\n",
              "      <td>0.00</td>\n",
              "      <td>0.00</td>\n",
              "    </tr>\n",
              "    <tr>\n",
              "      <th>2011-06-03</th>\n",
              "      <td>44</td>\n",
              "      <td>False</td>\n",
              "      <td>96</td>\n",
              "      <td>2921.07</td>\n",
              "      <td>0.00</td>\n",
              "      <td>0.00</td>\n",
              "      <td>0.00</td>\n",
              "      <td>0.00</td>\n",
              "      <td>0.00</td>\n",
              "    </tr>\n",
              "    <tr>\n",
              "      <th>2011-06-10</th>\n",
              "      <td>44</td>\n",
              "      <td>False</td>\n",
              "      <td>96</td>\n",
              "      <td>3296.00</td>\n",
              "      <td>0.00</td>\n",
              "      <td>0.00</td>\n",
              "      <td>0.00</td>\n",
              "      <td>0.00</td>\n",
              "      <td>0.00</td>\n",
              "    </tr>\n",
              "    <tr>\n",
              "      <th>2011-06-17</th>\n",
              "      <td>44</td>\n",
              "      <td>False</td>\n",
              "      <td>96</td>\n",
              "      <td>3091.16</td>\n",
              "      <td>0.00</td>\n",
              "      <td>0.00</td>\n",
              "      <td>0.00</td>\n",
              "      <td>0.00</td>\n",
              "      <td>0.00</td>\n",
              "    </tr>\n",
              "    <tr>\n",
              "      <th>2011-06-24</th>\n",
              "      <td>44</td>\n",
              "      <td>False</td>\n",
              "      <td>96</td>\n",
              "      <td>3296.80</td>\n",
              "      <td>0.00</td>\n",
              "      <td>0.00</td>\n",
              "      <td>0.00</td>\n",
              "      <td>0.00</td>\n",
              "      <td>0.00</td>\n",
              "    </tr>\n",
              "    <tr>\n",
              "      <th>...</th>\n",
              "      <td>...</td>\n",
              "      <td>...</td>\n",
              "      <td>...</td>\n",
              "      <td>...</td>\n",
              "      <td>...</td>\n",
              "      <td>...</td>\n",
              "      <td>...</td>\n",
              "      <td>...</td>\n",
              "      <td>...</td>\n",
              "    </tr>\n",
              "    <tr>\n",
              "      <th>2012-09-28</th>\n",
              "      <td>45</td>\n",
              "      <td>False</td>\n",
              "      <td>98</td>\n",
              "      <td>508.37</td>\n",
              "      <td>4556.61</td>\n",
              "      <td>20.64</td>\n",
              "      <td>1.50</td>\n",
              "      <td>1601.01</td>\n",
              "      <td>3288.25</td>\n",
              "    </tr>\n",
              "    <tr>\n",
              "      <th>2012-10-05</th>\n",
              "      <td>45</td>\n",
              "      <td>False</td>\n",
              "      <td>98</td>\n",
              "      <td>628.10</td>\n",
              "      <td>5046.74</td>\n",
              "      <td>0.00</td>\n",
              "      <td>18.82</td>\n",
              "      <td>2253.43</td>\n",
              "      <td>2340.01</td>\n",
              "    </tr>\n",
              "    <tr>\n",
              "      <th>2012-10-12</th>\n",
              "      <td>45</td>\n",
              "      <td>False</td>\n",
              "      <td>98</td>\n",
              "      <td>1061.02</td>\n",
              "      <td>1956.28</td>\n",
              "      <td>0.00</td>\n",
              "      <td>7.89</td>\n",
              "      <td>599.32</td>\n",
              "      <td>3990.54</td>\n",
              "    </tr>\n",
              "    <tr>\n",
              "      <th>2012-10-19</th>\n",
              "      <td>45</td>\n",
              "      <td>False</td>\n",
              "      <td>98</td>\n",
              "      <td>760.01</td>\n",
              "      <td>2004.02</td>\n",
              "      <td>0.00</td>\n",
              "      <td>3.18</td>\n",
              "      <td>437.73</td>\n",
              "      <td>1537.49</td>\n",
              "    </tr>\n",
              "    <tr>\n",
              "      <th>2012-10-26</th>\n",
              "      <td>45</td>\n",
              "      <td>False</td>\n",
              "      <td>98</td>\n",
              "      <td>1076.80</td>\n",
              "      <td>4018.91</td>\n",
              "      <td>58.08</td>\n",
              "      <td>100.00</td>\n",
              "      <td>211.94</td>\n",
              "      <td>858.33</td>\n",
              "    </tr>\n",
              "  </tbody>\n",
              "</table>\n",
              "<p>10000 rows × 9 columns</p>\n",
              "</div>"
            ],
            "text/plain": [
              "            Store  IsHoliday_y  Dept  ...  MarkDown3  MarkDown4  MarkDown5\n",
              "Date                                  ...                                 \n",
              "2011-05-27     44        False    96  ...       0.00       0.00       0.00\n",
              "2011-06-03     44        False    96  ...       0.00       0.00       0.00\n",
              "2011-06-10     44        False    96  ...       0.00       0.00       0.00\n",
              "2011-06-17     44        False    96  ...       0.00       0.00       0.00\n",
              "2011-06-24     44        False    96  ...       0.00       0.00       0.00\n",
              "...           ...          ...   ...  ...        ...        ...        ...\n",
              "2012-09-28     45        False    98  ...       1.50    1601.01    3288.25\n",
              "2012-10-05     45        False    98  ...      18.82    2253.43    2340.01\n",
              "2012-10-12     45        False    98  ...       7.89     599.32    3990.54\n",
              "2012-10-19     45        False    98  ...       3.18     437.73    1537.49\n",
              "2012-10-26     45        False    98  ...     100.00     211.94     858.33\n",
              "\n",
              "[10000 rows x 9 columns]"
            ]
          },
          "metadata": {
            "tags": []
          },
          "execution_count": 13
        }
      ]
    },
    {
      "cell_type": "markdown",
      "metadata": {
        "id": "DRWeqJTb4VRP"
      },
      "source": [
        "Setando os campos y_teste e y_train"
      ]
    },
    {
      "cell_type": "code",
      "metadata": {
        "colab": {
          "base_uri": "https://localhost:8080/",
          "height": 450
        },
        "id": "TY3KjA0d7Njw",
        "outputId": "3159a726-3ed4-4a92-c8f6-cc0b0de0a51d"
      },
      "source": [
        "y_train = df_XTrain[['Weekly_Sales']]\n",
        "y_train"
      ],
      "execution_count": 14,
      "outputs": [
        {
          "output_type": "execute_result",
          "data": {
            "text/html": [
              "<div>\n",
              "<style scoped>\n",
              "    .dataframe tbody tr th:only-of-type {\n",
              "        vertical-align: middle;\n",
              "    }\n",
              "\n",
              "    .dataframe tbody tr th {\n",
              "        vertical-align: top;\n",
              "    }\n",
              "\n",
              "    .dataframe thead th {\n",
              "        text-align: right;\n",
              "    }\n",
              "</style>\n",
              "<table border=\"1\" class=\"dataframe\">\n",
              "  <thead>\n",
              "    <tr style=\"text-align: right;\">\n",
              "      <th></th>\n",
              "      <th>Weekly_Sales</th>\n",
              "    </tr>\n",
              "    <tr>\n",
              "      <th>Date</th>\n",
              "      <th></th>\n",
              "    </tr>\n",
              "  </thead>\n",
              "  <tbody>\n",
              "    <tr>\n",
              "      <th>2010-02-05</th>\n",
              "      <td>24924.50</td>\n",
              "    </tr>\n",
              "    <tr>\n",
              "      <th>2010-02-12</th>\n",
              "      <td>46039.49</td>\n",
              "    </tr>\n",
              "    <tr>\n",
              "      <th>2010-02-19</th>\n",
              "      <td>41595.55</td>\n",
              "    </tr>\n",
              "    <tr>\n",
              "      <th>2010-02-26</th>\n",
              "      <td>19403.54</td>\n",
              "    </tr>\n",
              "    <tr>\n",
              "      <th>2010-03-05</th>\n",
              "      <td>21827.90</td>\n",
              "    </tr>\n",
              "    <tr>\n",
              "      <th>...</th>\n",
              "      <td>...</td>\n",
              "    </tr>\n",
              "    <tr>\n",
              "      <th>2012-10-05</th>\n",
              "      <td>427.25</td>\n",
              "    </tr>\n",
              "    <tr>\n",
              "      <th>2012-10-12</th>\n",
              "      <td>247.46</td>\n",
              "    </tr>\n",
              "    <tr>\n",
              "      <th>2012-10-19</th>\n",
              "      <td>390.40</td>\n",
              "    </tr>\n",
              "    <tr>\n",
              "      <th>2012-10-26</th>\n",
              "      <td>229.21</td>\n",
              "    </tr>\n",
              "    <tr>\n",
              "      <th>2010-09-24</th>\n",
              "      <td>27.15</td>\n",
              "    </tr>\n",
              "  </tbody>\n",
              "</table>\n",
              "<p>216819 rows × 1 columns</p>\n",
              "</div>"
            ],
            "text/plain": [
              "            Weekly_Sales\n",
              "Date                    \n",
              "2010-02-05      24924.50\n",
              "2010-02-12      46039.49\n",
              "2010-02-19      41595.55\n",
              "2010-02-26      19403.54\n",
              "2010-03-05      21827.90\n",
              "...                  ...\n",
              "2012-10-05        427.25\n",
              "2012-10-12        247.46\n",
              "2012-10-19        390.40\n",
              "2012-10-26        229.21\n",
              "2010-09-24         27.15\n",
              "\n",
              "[216819 rows x 1 columns]"
            ]
          },
          "metadata": {
            "tags": []
          },
          "execution_count": 14
        }
      ]
    },
    {
      "cell_type": "code",
      "metadata": {
        "colab": {
          "base_uri": "https://localhost:8080/",
          "height": 450
        },
        "id": "Q6ewuXkFVyqs",
        "outputId": "cf518d6c-6e87-4a52-ce67-821232d420d7"
      },
      "source": [
        "y_teste = df_XTeste[['Weekly_Sales']]\n",
        "y_teste"
      ],
      "execution_count": 15,
      "outputs": [
        {
          "output_type": "execute_result",
          "data": {
            "text/html": [
              "<div>\n",
              "<style scoped>\n",
              "    .dataframe tbody tr th:only-of-type {\n",
              "        vertical-align: middle;\n",
              "    }\n",
              "\n",
              "    .dataframe tbody tr th {\n",
              "        vertical-align: top;\n",
              "    }\n",
              "\n",
              "    .dataframe thead th {\n",
              "        text-align: right;\n",
              "    }\n",
              "</style>\n",
              "<table border=\"1\" class=\"dataframe\">\n",
              "  <thead>\n",
              "    <tr style=\"text-align: right;\">\n",
              "      <th></th>\n",
              "      <th>Weekly_Sales</th>\n",
              "    </tr>\n",
              "    <tr>\n",
              "      <th>Date</th>\n",
              "      <th></th>\n",
              "    </tr>\n",
              "  </thead>\n",
              "  <tbody>\n",
              "    <tr>\n",
              "      <th>2010-02-05</th>\n",
              "      <td>32452.79</td>\n",
              "    </tr>\n",
              "    <tr>\n",
              "      <th>2010-02-12</th>\n",
              "      <td>50360.71</td>\n",
              "    </tr>\n",
              "    <tr>\n",
              "      <th>2010-02-19</th>\n",
              "      <td>28504.70</td>\n",
              "    </tr>\n",
              "    <tr>\n",
              "      <th>2010-02-26</th>\n",
              "      <td>23033.73</td>\n",
              "    </tr>\n",
              "    <tr>\n",
              "      <th>2010-03-05</th>\n",
              "      <td>29662.30</td>\n",
              "    </tr>\n",
              "    <tr>\n",
              "      <th>...</th>\n",
              "      <td>...</td>\n",
              "    </tr>\n",
              "    <tr>\n",
              "      <th>2012-09-28</th>\n",
              "      <td>508.37</td>\n",
              "    </tr>\n",
              "    <tr>\n",
              "      <th>2012-10-05</th>\n",
              "      <td>628.10</td>\n",
              "    </tr>\n",
              "    <tr>\n",
              "      <th>2012-10-12</th>\n",
              "      <td>1061.02</td>\n",
              "    </tr>\n",
              "    <tr>\n",
              "      <th>2012-10-19</th>\n",
              "      <td>760.01</td>\n",
              "    </tr>\n",
              "    <tr>\n",
              "      <th>2012-10-26</th>\n",
              "      <td>1076.80</td>\n",
              "    </tr>\n",
              "  </tbody>\n",
              "</table>\n",
              "<p>204751 rows × 1 columns</p>\n",
              "</div>"
            ],
            "text/plain": [
              "            Weekly_Sales\n",
              "Date                    \n",
              "2010-02-05      32452.79\n",
              "2010-02-12      50360.71\n",
              "2010-02-19      28504.70\n",
              "2010-02-26      23033.73\n",
              "2010-03-05      29662.30\n",
              "...                  ...\n",
              "2012-09-28        508.37\n",
              "2012-10-05        628.10\n",
              "2012-10-12       1061.02\n",
              "2012-10-19        760.01\n",
              "2012-10-26       1076.80\n",
              "\n",
              "[204751 rows x 1 columns]"
            ]
          },
          "metadata": {
            "tags": []
          },
          "execution_count": 15
        }
      ]
    },
    {
      "cell_type": "markdown",
      "metadata": {
        "id": "U1p5cMgAzMHB"
      },
      "source": [
        "Desprezando a primeira linha"
      ]
    },
    {
      "cell_type": "code",
      "metadata": {
        "colab": {
          "base_uri": "https://localhost:8080/",
          "height": 235
        },
        "id": "93gbOO5RTxon",
        "outputId": "c765d08b-91ae-4436-de4c-945f333abfce"
      },
      "source": [
        "y_train = y_train.iloc[1:]\n",
        "#y = y.dropna()\n",
        "y_train.head()"
      ],
      "execution_count": 16,
      "outputs": [
        {
          "output_type": "execute_result",
          "data": {
            "text/html": [
              "<div>\n",
              "<style scoped>\n",
              "    .dataframe tbody tr th:only-of-type {\n",
              "        vertical-align: middle;\n",
              "    }\n",
              "\n",
              "    .dataframe tbody tr th {\n",
              "        vertical-align: top;\n",
              "    }\n",
              "\n",
              "    .dataframe thead th {\n",
              "        text-align: right;\n",
              "    }\n",
              "</style>\n",
              "<table border=\"1\" class=\"dataframe\">\n",
              "  <thead>\n",
              "    <tr style=\"text-align: right;\">\n",
              "      <th></th>\n",
              "      <th>Weekly_Sales</th>\n",
              "    </tr>\n",
              "    <tr>\n",
              "      <th>Date</th>\n",
              "      <th></th>\n",
              "    </tr>\n",
              "  </thead>\n",
              "  <tbody>\n",
              "    <tr>\n",
              "      <th>2010-02-12</th>\n",
              "      <td>46039.49</td>\n",
              "    </tr>\n",
              "    <tr>\n",
              "      <th>2010-02-19</th>\n",
              "      <td>41595.55</td>\n",
              "    </tr>\n",
              "    <tr>\n",
              "      <th>2010-02-26</th>\n",
              "      <td>19403.54</td>\n",
              "    </tr>\n",
              "    <tr>\n",
              "      <th>2010-03-05</th>\n",
              "      <td>21827.90</td>\n",
              "    </tr>\n",
              "    <tr>\n",
              "      <th>2010-03-12</th>\n",
              "      <td>21043.39</td>\n",
              "    </tr>\n",
              "  </tbody>\n",
              "</table>\n",
              "</div>"
            ],
            "text/plain": [
              "            Weekly_Sales\n",
              "Date                    \n",
              "2010-02-12      46039.49\n",
              "2010-02-19      41595.55\n",
              "2010-02-26      19403.54\n",
              "2010-03-05      21827.90\n",
              "2010-03-12      21043.39"
            ]
          },
          "metadata": {
            "tags": []
          },
          "execution_count": 16
        }
      ]
    },
    {
      "cell_type": "code",
      "metadata": {
        "id": "ADGoPjFEls9U",
        "colab": {
          "base_uri": "https://localhost:8080/",
          "height": 235
        },
        "outputId": "45e24494-a8a9-4da9-ce92-474b3c644f20"
      },
      "source": [
        "y_teste = y_teste.iloc[1:]\n",
        "#y = y.dropna()\n",
        "y_teste.head()"
      ],
      "execution_count": 17,
      "outputs": [
        {
          "output_type": "execute_result",
          "data": {
            "text/html": [
              "<div>\n",
              "<style scoped>\n",
              "    .dataframe tbody tr th:only-of-type {\n",
              "        vertical-align: middle;\n",
              "    }\n",
              "\n",
              "    .dataframe tbody tr th {\n",
              "        vertical-align: top;\n",
              "    }\n",
              "\n",
              "    .dataframe thead th {\n",
              "        text-align: right;\n",
              "    }\n",
              "</style>\n",
              "<table border=\"1\" class=\"dataframe\">\n",
              "  <thead>\n",
              "    <tr style=\"text-align: right;\">\n",
              "      <th></th>\n",
              "      <th>Weekly_Sales</th>\n",
              "    </tr>\n",
              "    <tr>\n",
              "      <th>Date</th>\n",
              "      <th></th>\n",
              "    </tr>\n",
              "  </thead>\n",
              "  <tbody>\n",
              "    <tr>\n",
              "      <th>2010-02-12</th>\n",
              "      <td>50360.71</td>\n",
              "    </tr>\n",
              "    <tr>\n",
              "      <th>2010-02-19</th>\n",
              "      <td>28504.70</td>\n",
              "    </tr>\n",
              "    <tr>\n",
              "      <th>2010-02-26</th>\n",
              "      <td>23033.73</td>\n",
              "    </tr>\n",
              "    <tr>\n",
              "      <th>2010-03-05</th>\n",
              "      <td>29662.30</td>\n",
              "    </tr>\n",
              "    <tr>\n",
              "      <th>2010-03-12</th>\n",
              "      <td>33445.02</td>\n",
              "    </tr>\n",
              "  </tbody>\n",
              "</table>\n",
              "</div>"
            ],
            "text/plain": [
              "            Weekly_Sales\n",
              "Date                    \n",
              "2010-02-12      50360.71\n",
              "2010-02-19      28504.70\n",
              "2010-02-26      23033.73\n",
              "2010-03-05      29662.30\n",
              "2010-03-12      33445.02"
            ]
          },
          "metadata": {
            "tags": []
          },
          "execution_count": 17
        }
      ]
    },
    {
      "cell_type": "markdown",
      "metadata": {
        "id": "sb8VHYcuza1b"
      },
      "source": [
        "Criando o dataframe X_train para treino"
      ]
    },
    {
      "cell_type": "code",
      "metadata": {
        "colab": {
          "base_uri": "https://localhost:8080/",
          "height": 450
        },
        "id": "LJXmHLWc7ecw",
        "outputId": "9407f85c-4b4e-4b92-9de6-3db4bea5a8c6"
      },
      "source": [
        "X_train = df_XTrain[['Store','Dept','IsHoliday_y','Weekly_Sales','MarkDown1','MarkDown2','MarkDown3','MarkDown4','MarkDown5']].shift(1)\n",
        "#X = df.shift(1)\n",
        "X_train"
      ],
      "execution_count": 18,
      "outputs": [
        {
          "output_type": "execute_result",
          "data": {
            "text/html": [
              "<div>\n",
              "<style scoped>\n",
              "    .dataframe tbody tr th:only-of-type {\n",
              "        vertical-align: middle;\n",
              "    }\n",
              "\n",
              "    .dataframe tbody tr th {\n",
              "        vertical-align: top;\n",
              "    }\n",
              "\n",
              "    .dataframe thead th {\n",
              "        text-align: right;\n",
              "    }\n",
              "</style>\n",
              "<table border=\"1\" class=\"dataframe\">\n",
              "  <thead>\n",
              "    <tr style=\"text-align: right;\">\n",
              "      <th></th>\n",
              "      <th>Store</th>\n",
              "      <th>Dept</th>\n",
              "      <th>IsHoliday_y</th>\n",
              "      <th>Weekly_Sales</th>\n",
              "      <th>MarkDown1</th>\n",
              "      <th>MarkDown2</th>\n",
              "      <th>MarkDown3</th>\n",
              "      <th>MarkDown4</th>\n",
              "      <th>MarkDown5</th>\n",
              "    </tr>\n",
              "    <tr>\n",
              "      <th>Date</th>\n",
              "      <th></th>\n",
              "      <th></th>\n",
              "      <th></th>\n",
              "      <th></th>\n",
              "      <th></th>\n",
              "      <th></th>\n",
              "      <th></th>\n",
              "      <th></th>\n",
              "      <th></th>\n",
              "    </tr>\n",
              "  </thead>\n",
              "  <tbody>\n",
              "    <tr>\n",
              "      <th>2010-02-05</th>\n",
              "      <td>NaN</td>\n",
              "      <td>NaN</td>\n",
              "      <td>NaN</td>\n",
              "      <td>NaN</td>\n",
              "      <td>NaN</td>\n",
              "      <td>NaN</td>\n",
              "      <td>NaN</td>\n",
              "      <td>NaN</td>\n",
              "      <td>NaN</td>\n",
              "    </tr>\n",
              "    <tr>\n",
              "      <th>2010-02-12</th>\n",
              "      <td>1.0</td>\n",
              "      <td>1.0</td>\n",
              "      <td>False</td>\n",
              "      <td>24924.50</td>\n",
              "      <td>0.00</td>\n",
              "      <td>0.00</td>\n",
              "      <td>0.00</td>\n",
              "      <td>0.00</td>\n",
              "      <td>0.00</td>\n",
              "    </tr>\n",
              "    <tr>\n",
              "      <th>2010-02-19</th>\n",
              "      <td>1.0</td>\n",
              "      <td>1.0</td>\n",
              "      <td>True</td>\n",
              "      <td>46039.49</td>\n",
              "      <td>0.00</td>\n",
              "      <td>0.00</td>\n",
              "      <td>0.00</td>\n",
              "      <td>0.00</td>\n",
              "      <td>0.00</td>\n",
              "    </tr>\n",
              "    <tr>\n",
              "      <th>2010-02-26</th>\n",
              "      <td>1.0</td>\n",
              "      <td>1.0</td>\n",
              "      <td>False</td>\n",
              "      <td>41595.55</td>\n",
              "      <td>0.00</td>\n",
              "      <td>0.00</td>\n",
              "      <td>0.00</td>\n",
              "      <td>0.00</td>\n",
              "      <td>0.00</td>\n",
              "    </tr>\n",
              "    <tr>\n",
              "      <th>2010-03-05</th>\n",
              "      <td>1.0</td>\n",
              "      <td>1.0</td>\n",
              "      <td>False</td>\n",
              "      <td>19403.54</td>\n",
              "      <td>0.00</td>\n",
              "      <td>0.00</td>\n",
              "      <td>0.00</td>\n",
              "      <td>0.00</td>\n",
              "      <td>0.00</td>\n",
              "    </tr>\n",
              "    <tr>\n",
              "      <th>...</th>\n",
              "      <td>...</td>\n",
              "      <td>...</td>\n",
              "      <td>...</td>\n",
              "      <td>...</td>\n",
              "      <td>...</td>\n",
              "      <td>...</td>\n",
              "      <td>...</td>\n",
              "      <td>...</td>\n",
              "      <td>...</td>\n",
              "    </tr>\n",
              "    <tr>\n",
              "      <th>2012-10-05</th>\n",
              "      <td>22.0</td>\n",
              "      <td>98.0</td>\n",
              "      <td>False</td>\n",
              "      <td>136.04</td>\n",
              "      <td>4269.80</td>\n",
              "      <td>23.73</td>\n",
              "      <td>1.72</td>\n",
              "      <td>2763.63</td>\n",
              "      <td>2130.39</td>\n",
              "    </tr>\n",
              "    <tr>\n",
              "      <th>2012-10-12</th>\n",
              "      <td>22.0</td>\n",
              "      <td>98.0</td>\n",
              "      <td>False</td>\n",
              "      <td>427.25</td>\n",
              "      <td>5294.37</td>\n",
              "      <td>0.00</td>\n",
              "      <td>4.25</td>\n",
              "      <td>1447.19</td>\n",
              "      <td>3652.84</td>\n",
              "    </tr>\n",
              "    <tr>\n",
              "      <th>2012-10-19</th>\n",
              "      <td>22.0</td>\n",
              "      <td>98.0</td>\n",
              "      <td>False</td>\n",
              "      <td>247.46</td>\n",
              "      <td>1558.08</td>\n",
              "      <td>0.00</td>\n",
              "      <td>10.35</td>\n",
              "      <td>485.20</td>\n",
              "      <td>4291.26</td>\n",
              "    </tr>\n",
              "    <tr>\n",
              "      <th>2012-10-26</th>\n",
              "      <td>22.0</td>\n",
              "      <td>98.0</td>\n",
              "      <td>False</td>\n",
              "      <td>390.40</td>\n",
              "      <td>2834.71</td>\n",
              "      <td>0.00</td>\n",
              "      <td>3.66</td>\n",
              "      <td>459.34</td>\n",
              "      <td>3171.35</td>\n",
              "    </tr>\n",
              "    <tr>\n",
              "      <th>2010-09-24</th>\n",
              "      <td>22.0</td>\n",
              "      <td>98.0</td>\n",
              "      <td>False</td>\n",
              "      <td>229.21</td>\n",
              "      <td>7330.98</td>\n",
              "      <td>111.86</td>\n",
              "      <td>152.91</td>\n",
              "      <td>536.08</td>\n",
              "      <td>708.93</td>\n",
              "    </tr>\n",
              "  </tbody>\n",
              "</table>\n",
              "<p>216819 rows × 9 columns</p>\n",
              "</div>"
            ],
            "text/plain": [
              "            Store  Dept IsHoliday_y  ...  MarkDown3  MarkDown4  MarkDown5\n",
              "Date                                 ...                                 \n",
              "2010-02-05    NaN   NaN         NaN  ...        NaN        NaN        NaN\n",
              "2010-02-12    1.0   1.0       False  ...       0.00       0.00       0.00\n",
              "2010-02-19    1.0   1.0        True  ...       0.00       0.00       0.00\n",
              "2010-02-26    1.0   1.0       False  ...       0.00       0.00       0.00\n",
              "2010-03-05    1.0   1.0       False  ...       0.00       0.00       0.00\n",
              "...           ...   ...         ...  ...        ...        ...        ...\n",
              "2012-10-05   22.0  98.0       False  ...       1.72    2763.63    2130.39\n",
              "2012-10-12   22.0  98.0       False  ...       4.25    1447.19    3652.84\n",
              "2012-10-19   22.0  98.0       False  ...      10.35     485.20    4291.26\n",
              "2012-10-26   22.0  98.0       False  ...       3.66     459.34    3171.35\n",
              "2010-09-24   22.0  98.0       False  ...     152.91     536.08     708.93\n",
              "\n",
              "[216819 rows x 9 columns]"
            ]
          },
          "metadata": {
            "tags": []
          },
          "execution_count": 18
        }
      ]
    },
    {
      "cell_type": "markdown",
      "metadata": {
        "id": "8vNeHM4rzwXz"
      },
      "source": [
        "Criando o dataframe X_teste para teste"
      ]
    },
    {
      "cell_type": "code",
      "metadata": {
        "colab": {
          "base_uri": "https://localhost:8080/",
          "height": 450
        },
        "id": "jvbJeZ-YWCoQ",
        "outputId": "598d4ae5-4060-4dab-a5f8-093512122c12"
      },
      "source": [
        "X_teste = df_XTeste[['Store','Dept','IsHoliday_y','Weekly_Sales','MarkDown1','MarkDown2','MarkDown3','MarkDown4','MarkDown5']].shift(1)\n",
        "X_teste"
      ],
      "execution_count": 19,
      "outputs": [
        {
          "output_type": "execute_result",
          "data": {
            "text/html": [
              "<div>\n",
              "<style scoped>\n",
              "    .dataframe tbody tr th:only-of-type {\n",
              "        vertical-align: middle;\n",
              "    }\n",
              "\n",
              "    .dataframe tbody tr th {\n",
              "        vertical-align: top;\n",
              "    }\n",
              "\n",
              "    .dataframe thead th {\n",
              "        text-align: right;\n",
              "    }\n",
              "</style>\n",
              "<table border=\"1\" class=\"dataframe\">\n",
              "  <thead>\n",
              "    <tr style=\"text-align: right;\">\n",
              "      <th></th>\n",
              "      <th>Store</th>\n",
              "      <th>Dept</th>\n",
              "      <th>IsHoliday_y</th>\n",
              "      <th>Weekly_Sales</th>\n",
              "      <th>MarkDown1</th>\n",
              "      <th>MarkDown2</th>\n",
              "      <th>MarkDown3</th>\n",
              "      <th>MarkDown4</th>\n",
              "      <th>MarkDown5</th>\n",
              "    </tr>\n",
              "    <tr>\n",
              "      <th>Date</th>\n",
              "      <th></th>\n",
              "      <th></th>\n",
              "      <th></th>\n",
              "      <th></th>\n",
              "      <th></th>\n",
              "      <th></th>\n",
              "      <th></th>\n",
              "      <th></th>\n",
              "      <th></th>\n",
              "    </tr>\n",
              "  </thead>\n",
              "  <tbody>\n",
              "    <tr>\n",
              "      <th>2010-02-05</th>\n",
              "      <td>NaN</td>\n",
              "      <td>NaN</td>\n",
              "      <td>NaN</td>\n",
              "      <td>NaN</td>\n",
              "      <td>NaN</td>\n",
              "      <td>NaN</td>\n",
              "      <td>NaN</td>\n",
              "      <td>NaN</td>\n",
              "      <td>NaN</td>\n",
              "    </tr>\n",
              "    <tr>\n",
              "      <th>2010-02-12</th>\n",
              "      <td>23.0</td>\n",
              "      <td>1.0</td>\n",
              "      <td>False</td>\n",
              "      <td>32452.79</td>\n",
              "      <td>0.00</td>\n",
              "      <td>0.00</td>\n",
              "      <td>0.00</td>\n",
              "      <td>0.00</td>\n",
              "      <td>0.00</td>\n",
              "    </tr>\n",
              "    <tr>\n",
              "      <th>2010-02-19</th>\n",
              "      <td>23.0</td>\n",
              "      <td>1.0</td>\n",
              "      <td>True</td>\n",
              "      <td>50360.71</td>\n",
              "      <td>0.00</td>\n",
              "      <td>0.00</td>\n",
              "      <td>0.00</td>\n",
              "      <td>0.00</td>\n",
              "      <td>0.00</td>\n",
              "    </tr>\n",
              "    <tr>\n",
              "      <th>2010-02-26</th>\n",
              "      <td>23.0</td>\n",
              "      <td>1.0</td>\n",
              "      <td>False</td>\n",
              "      <td>28504.70</td>\n",
              "      <td>0.00</td>\n",
              "      <td>0.00</td>\n",
              "      <td>0.00</td>\n",
              "      <td>0.00</td>\n",
              "      <td>0.00</td>\n",
              "    </tr>\n",
              "    <tr>\n",
              "      <th>2010-03-05</th>\n",
              "      <td>23.0</td>\n",
              "      <td>1.0</td>\n",
              "      <td>False</td>\n",
              "      <td>23033.73</td>\n",
              "      <td>0.00</td>\n",
              "      <td>0.00</td>\n",
              "      <td>0.00</td>\n",
              "      <td>0.00</td>\n",
              "      <td>0.00</td>\n",
              "    </tr>\n",
              "    <tr>\n",
              "      <th>...</th>\n",
              "      <td>...</td>\n",
              "      <td>...</td>\n",
              "      <td>...</td>\n",
              "      <td>...</td>\n",
              "      <td>...</td>\n",
              "      <td>...</td>\n",
              "      <td>...</td>\n",
              "      <td>...</td>\n",
              "      <td>...</td>\n",
              "    </tr>\n",
              "    <tr>\n",
              "      <th>2012-09-28</th>\n",
              "      <td>45.0</td>\n",
              "      <td>98.0</td>\n",
              "      <td>False</td>\n",
              "      <td>467.30</td>\n",
              "      <td>8452.20</td>\n",
              "      <td>92.28</td>\n",
              "      <td>63.24</td>\n",
              "      <td>2376.38</td>\n",
              "      <td>8670.40</td>\n",
              "    </tr>\n",
              "    <tr>\n",
              "      <th>2012-10-05</th>\n",
              "      <td>45.0</td>\n",
              "      <td>98.0</td>\n",
              "      <td>False</td>\n",
              "      <td>508.37</td>\n",
              "      <td>4556.61</td>\n",
              "      <td>20.64</td>\n",
              "      <td>1.50</td>\n",
              "      <td>1601.01</td>\n",
              "      <td>3288.25</td>\n",
              "    </tr>\n",
              "    <tr>\n",
              "      <th>2012-10-12</th>\n",
              "      <td>45.0</td>\n",
              "      <td>98.0</td>\n",
              "      <td>False</td>\n",
              "      <td>628.10</td>\n",
              "      <td>5046.74</td>\n",
              "      <td>0.00</td>\n",
              "      <td>18.82</td>\n",
              "      <td>2253.43</td>\n",
              "      <td>2340.01</td>\n",
              "    </tr>\n",
              "    <tr>\n",
              "      <th>2012-10-19</th>\n",
              "      <td>45.0</td>\n",
              "      <td>98.0</td>\n",
              "      <td>False</td>\n",
              "      <td>1061.02</td>\n",
              "      <td>1956.28</td>\n",
              "      <td>0.00</td>\n",
              "      <td>7.89</td>\n",
              "      <td>599.32</td>\n",
              "      <td>3990.54</td>\n",
              "    </tr>\n",
              "    <tr>\n",
              "      <th>2012-10-26</th>\n",
              "      <td>45.0</td>\n",
              "      <td>98.0</td>\n",
              "      <td>False</td>\n",
              "      <td>760.01</td>\n",
              "      <td>2004.02</td>\n",
              "      <td>0.00</td>\n",
              "      <td>3.18</td>\n",
              "      <td>437.73</td>\n",
              "      <td>1537.49</td>\n",
              "    </tr>\n",
              "  </tbody>\n",
              "</table>\n",
              "<p>204751 rows × 9 columns</p>\n",
              "</div>"
            ],
            "text/plain": [
              "            Store  Dept IsHoliday_y  ...  MarkDown3  MarkDown4  MarkDown5\n",
              "Date                                 ...                                 \n",
              "2010-02-05    NaN   NaN         NaN  ...        NaN        NaN        NaN\n",
              "2010-02-12   23.0   1.0       False  ...       0.00       0.00       0.00\n",
              "2010-02-19   23.0   1.0        True  ...       0.00       0.00       0.00\n",
              "2010-02-26   23.0   1.0       False  ...       0.00       0.00       0.00\n",
              "2010-03-05   23.0   1.0       False  ...       0.00       0.00       0.00\n",
              "...           ...   ...         ...  ...        ...        ...        ...\n",
              "2012-09-28   45.0  98.0       False  ...      63.24    2376.38    8670.40\n",
              "2012-10-05   45.0  98.0       False  ...       1.50    1601.01    3288.25\n",
              "2012-10-12   45.0  98.0       False  ...      18.82    2253.43    2340.01\n",
              "2012-10-19   45.0  98.0       False  ...       7.89     599.32    3990.54\n",
              "2012-10-26   45.0  98.0       False  ...       3.18     437.73    1537.49\n",
              "\n",
              "[204751 rows x 9 columns]"
            ]
          },
          "metadata": {
            "tags": []
          },
          "execution_count": 19
        }
      ]
    },
    {
      "cell_type": "code",
      "metadata": {
        "colab": {
          "base_uri": "https://localhost:8080/",
          "height": 235
        },
        "id": "7VtHWuHeUe2x",
        "outputId": "9acec5f5-be1b-4153-e652-899854feb9de"
      },
      "source": [
        "X_train = X_train.iloc[1:]\n",
        "#X = X.dropna()\n",
        "X_train.head()"
      ],
      "execution_count": 20,
      "outputs": [
        {
          "output_type": "execute_result",
          "data": {
            "text/html": [
              "<div>\n",
              "<style scoped>\n",
              "    .dataframe tbody tr th:only-of-type {\n",
              "        vertical-align: middle;\n",
              "    }\n",
              "\n",
              "    .dataframe tbody tr th {\n",
              "        vertical-align: top;\n",
              "    }\n",
              "\n",
              "    .dataframe thead th {\n",
              "        text-align: right;\n",
              "    }\n",
              "</style>\n",
              "<table border=\"1\" class=\"dataframe\">\n",
              "  <thead>\n",
              "    <tr style=\"text-align: right;\">\n",
              "      <th></th>\n",
              "      <th>Store</th>\n",
              "      <th>Dept</th>\n",
              "      <th>IsHoliday_y</th>\n",
              "      <th>Weekly_Sales</th>\n",
              "      <th>MarkDown1</th>\n",
              "      <th>MarkDown2</th>\n",
              "      <th>MarkDown3</th>\n",
              "      <th>MarkDown4</th>\n",
              "      <th>MarkDown5</th>\n",
              "    </tr>\n",
              "    <tr>\n",
              "      <th>Date</th>\n",
              "      <th></th>\n",
              "      <th></th>\n",
              "      <th></th>\n",
              "      <th></th>\n",
              "      <th></th>\n",
              "      <th></th>\n",
              "      <th></th>\n",
              "      <th></th>\n",
              "      <th></th>\n",
              "    </tr>\n",
              "  </thead>\n",
              "  <tbody>\n",
              "    <tr>\n",
              "      <th>2010-02-12</th>\n",
              "      <td>1.0</td>\n",
              "      <td>1.0</td>\n",
              "      <td>False</td>\n",
              "      <td>24924.50</td>\n",
              "      <td>0.0</td>\n",
              "      <td>0.0</td>\n",
              "      <td>0.0</td>\n",
              "      <td>0.0</td>\n",
              "      <td>0.0</td>\n",
              "    </tr>\n",
              "    <tr>\n",
              "      <th>2010-02-19</th>\n",
              "      <td>1.0</td>\n",
              "      <td>1.0</td>\n",
              "      <td>True</td>\n",
              "      <td>46039.49</td>\n",
              "      <td>0.0</td>\n",
              "      <td>0.0</td>\n",
              "      <td>0.0</td>\n",
              "      <td>0.0</td>\n",
              "      <td>0.0</td>\n",
              "    </tr>\n",
              "    <tr>\n",
              "      <th>2010-02-26</th>\n",
              "      <td>1.0</td>\n",
              "      <td>1.0</td>\n",
              "      <td>False</td>\n",
              "      <td>41595.55</td>\n",
              "      <td>0.0</td>\n",
              "      <td>0.0</td>\n",
              "      <td>0.0</td>\n",
              "      <td>0.0</td>\n",
              "      <td>0.0</td>\n",
              "    </tr>\n",
              "    <tr>\n",
              "      <th>2010-03-05</th>\n",
              "      <td>1.0</td>\n",
              "      <td>1.0</td>\n",
              "      <td>False</td>\n",
              "      <td>19403.54</td>\n",
              "      <td>0.0</td>\n",
              "      <td>0.0</td>\n",
              "      <td>0.0</td>\n",
              "      <td>0.0</td>\n",
              "      <td>0.0</td>\n",
              "    </tr>\n",
              "    <tr>\n",
              "      <th>2010-03-12</th>\n",
              "      <td>1.0</td>\n",
              "      <td>1.0</td>\n",
              "      <td>False</td>\n",
              "      <td>21827.90</td>\n",
              "      <td>0.0</td>\n",
              "      <td>0.0</td>\n",
              "      <td>0.0</td>\n",
              "      <td>0.0</td>\n",
              "      <td>0.0</td>\n",
              "    </tr>\n",
              "  </tbody>\n",
              "</table>\n",
              "</div>"
            ],
            "text/plain": [
              "            Store  Dept IsHoliday_y  ...  MarkDown3  MarkDown4  MarkDown5\n",
              "Date                                 ...                                 \n",
              "2010-02-12    1.0   1.0       False  ...        0.0        0.0        0.0\n",
              "2010-02-19    1.0   1.0        True  ...        0.0        0.0        0.0\n",
              "2010-02-26    1.0   1.0       False  ...        0.0        0.0        0.0\n",
              "2010-03-05    1.0   1.0       False  ...        0.0        0.0        0.0\n",
              "2010-03-12    1.0   1.0       False  ...        0.0        0.0        0.0\n",
              "\n",
              "[5 rows x 9 columns]"
            ]
          },
          "metadata": {
            "tags": []
          },
          "execution_count": 20
        }
      ]
    },
    {
      "cell_type": "code",
      "metadata": {
        "id": "OPB9SgfJZGfA",
        "colab": {
          "base_uri": "https://localhost:8080/",
          "height": 235
        },
        "outputId": "9f928926-26b1-4043-c18d-aad6bc6952b3"
      },
      "source": [
        "X_teste = X_teste.iloc[1:]\n",
        "#X = X.dropna()\n",
        "X_teste.head()"
      ],
      "execution_count": 21,
      "outputs": [
        {
          "output_type": "execute_result",
          "data": {
            "text/html": [
              "<div>\n",
              "<style scoped>\n",
              "    .dataframe tbody tr th:only-of-type {\n",
              "        vertical-align: middle;\n",
              "    }\n",
              "\n",
              "    .dataframe tbody tr th {\n",
              "        vertical-align: top;\n",
              "    }\n",
              "\n",
              "    .dataframe thead th {\n",
              "        text-align: right;\n",
              "    }\n",
              "</style>\n",
              "<table border=\"1\" class=\"dataframe\">\n",
              "  <thead>\n",
              "    <tr style=\"text-align: right;\">\n",
              "      <th></th>\n",
              "      <th>Store</th>\n",
              "      <th>Dept</th>\n",
              "      <th>IsHoliday_y</th>\n",
              "      <th>Weekly_Sales</th>\n",
              "      <th>MarkDown1</th>\n",
              "      <th>MarkDown2</th>\n",
              "      <th>MarkDown3</th>\n",
              "      <th>MarkDown4</th>\n",
              "      <th>MarkDown5</th>\n",
              "    </tr>\n",
              "    <tr>\n",
              "      <th>Date</th>\n",
              "      <th></th>\n",
              "      <th></th>\n",
              "      <th></th>\n",
              "      <th></th>\n",
              "      <th></th>\n",
              "      <th></th>\n",
              "      <th></th>\n",
              "      <th></th>\n",
              "      <th></th>\n",
              "    </tr>\n",
              "  </thead>\n",
              "  <tbody>\n",
              "    <tr>\n",
              "      <th>2010-02-12</th>\n",
              "      <td>23.0</td>\n",
              "      <td>1.0</td>\n",
              "      <td>False</td>\n",
              "      <td>32452.79</td>\n",
              "      <td>0.0</td>\n",
              "      <td>0.0</td>\n",
              "      <td>0.0</td>\n",
              "      <td>0.0</td>\n",
              "      <td>0.0</td>\n",
              "    </tr>\n",
              "    <tr>\n",
              "      <th>2010-02-19</th>\n",
              "      <td>23.0</td>\n",
              "      <td>1.0</td>\n",
              "      <td>True</td>\n",
              "      <td>50360.71</td>\n",
              "      <td>0.0</td>\n",
              "      <td>0.0</td>\n",
              "      <td>0.0</td>\n",
              "      <td>0.0</td>\n",
              "      <td>0.0</td>\n",
              "    </tr>\n",
              "    <tr>\n",
              "      <th>2010-02-26</th>\n",
              "      <td>23.0</td>\n",
              "      <td>1.0</td>\n",
              "      <td>False</td>\n",
              "      <td>28504.70</td>\n",
              "      <td>0.0</td>\n",
              "      <td>0.0</td>\n",
              "      <td>0.0</td>\n",
              "      <td>0.0</td>\n",
              "      <td>0.0</td>\n",
              "    </tr>\n",
              "    <tr>\n",
              "      <th>2010-03-05</th>\n",
              "      <td>23.0</td>\n",
              "      <td>1.0</td>\n",
              "      <td>False</td>\n",
              "      <td>23033.73</td>\n",
              "      <td>0.0</td>\n",
              "      <td>0.0</td>\n",
              "      <td>0.0</td>\n",
              "      <td>0.0</td>\n",
              "      <td>0.0</td>\n",
              "    </tr>\n",
              "    <tr>\n",
              "      <th>2010-03-12</th>\n",
              "      <td>23.0</td>\n",
              "      <td>1.0</td>\n",
              "      <td>False</td>\n",
              "      <td>29662.30</td>\n",
              "      <td>0.0</td>\n",
              "      <td>0.0</td>\n",
              "      <td>0.0</td>\n",
              "      <td>0.0</td>\n",
              "      <td>0.0</td>\n",
              "    </tr>\n",
              "  </tbody>\n",
              "</table>\n",
              "</div>"
            ],
            "text/plain": [
              "            Store  Dept IsHoliday_y  ...  MarkDown3  MarkDown4  MarkDown5\n",
              "Date                                 ...                                 \n",
              "2010-02-12   23.0   1.0       False  ...        0.0        0.0        0.0\n",
              "2010-02-19   23.0   1.0        True  ...        0.0        0.0        0.0\n",
              "2010-02-26   23.0   1.0       False  ...        0.0        0.0        0.0\n",
              "2010-03-05   23.0   1.0       False  ...        0.0        0.0        0.0\n",
              "2010-03-12   23.0   1.0       False  ...        0.0        0.0        0.0\n",
              "\n",
              "[5 rows x 9 columns]"
            ]
          },
          "metadata": {
            "tags": []
          },
          "execution_count": 21
        }
      ]
    },
    {
      "cell_type": "code",
      "metadata": {
        "colab": {
          "base_uri": "https://localhost:8080/"
        },
        "id": "KbHkOmhZT4Qo",
        "outputId": "be284812-44a6-451e-8163-c23879632be9"
      },
      "source": [
        "X_train.shape, X_teste.shape, y_train.shape, y_teste.shape"
      ],
      "execution_count": 22,
      "outputs": [
        {
          "output_type": "execute_result",
          "data": {
            "text/plain": [
              "((216818, 9), (204750, 9), (216818, 1), (204750, 1))"
            ]
          },
          "metadata": {
            "tags": []
          },
          "execution_count": 22
        }
      ]
    },
    {
      "cell_type": "markdown",
      "metadata": {
        "id": "Cf5BAw6x0CVD"
      },
      "source": [
        "Criando colunas novas a partir da coluna IsHoliday com 0 e 1 ao invés de True ou False"
      ]
    },
    {
      "cell_type": "code",
      "metadata": {
        "colab": {
          "base_uri": "https://localhost:8080/",
          "height": 235
        },
        "id": "Mg4ALRshszbb",
        "outputId": "a875adad-3aa6-47e6-cb98-46d7ee51adf9"
      },
      "source": [
        "X_train = pd.get_dummies(X_train)\n",
        "X_train.head()"
      ],
      "execution_count": 23,
      "outputs": [
        {
          "output_type": "execute_result",
          "data": {
            "text/html": [
              "<div>\n",
              "<style scoped>\n",
              "    .dataframe tbody tr th:only-of-type {\n",
              "        vertical-align: middle;\n",
              "    }\n",
              "\n",
              "    .dataframe tbody tr th {\n",
              "        vertical-align: top;\n",
              "    }\n",
              "\n",
              "    .dataframe thead th {\n",
              "        text-align: right;\n",
              "    }\n",
              "</style>\n",
              "<table border=\"1\" class=\"dataframe\">\n",
              "  <thead>\n",
              "    <tr style=\"text-align: right;\">\n",
              "      <th></th>\n",
              "      <th>Store</th>\n",
              "      <th>Dept</th>\n",
              "      <th>Weekly_Sales</th>\n",
              "      <th>MarkDown1</th>\n",
              "      <th>MarkDown2</th>\n",
              "      <th>MarkDown3</th>\n",
              "      <th>MarkDown4</th>\n",
              "      <th>MarkDown5</th>\n",
              "      <th>IsHoliday_y_False</th>\n",
              "      <th>IsHoliday_y_True</th>\n",
              "    </tr>\n",
              "    <tr>\n",
              "      <th>Date</th>\n",
              "      <th></th>\n",
              "      <th></th>\n",
              "      <th></th>\n",
              "      <th></th>\n",
              "      <th></th>\n",
              "      <th></th>\n",
              "      <th></th>\n",
              "      <th></th>\n",
              "      <th></th>\n",
              "      <th></th>\n",
              "    </tr>\n",
              "  </thead>\n",
              "  <tbody>\n",
              "    <tr>\n",
              "      <th>2010-02-12</th>\n",
              "      <td>1.0</td>\n",
              "      <td>1.0</td>\n",
              "      <td>24924.50</td>\n",
              "      <td>0.0</td>\n",
              "      <td>0.0</td>\n",
              "      <td>0.0</td>\n",
              "      <td>0.0</td>\n",
              "      <td>0.0</td>\n",
              "      <td>1</td>\n",
              "      <td>0</td>\n",
              "    </tr>\n",
              "    <tr>\n",
              "      <th>2010-02-19</th>\n",
              "      <td>1.0</td>\n",
              "      <td>1.0</td>\n",
              "      <td>46039.49</td>\n",
              "      <td>0.0</td>\n",
              "      <td>0.0</td>\n",
              "      <td>0.0</td>\n",
              "      <td>0.0</td>\n",
              "      <td>0.0</td>\n",
              "      <td>0</td>\n",
              "      <td>1</td>\n",
              "    </tr>\n",
              "    <tr>\n",
              "      <th>2010-02-26</th>\n",
              "      <td>1.0</td>\n",
              "      <td>1.0</td>\n",
              "      <td>41595.55</td>\n",
              "      <td>0.0</td>\n",
              "      <td>0.0</td>\n",
              "      <td>0.0</td>\n",
              "      <td>0.0</td>\n",
              "      <td>0.0</td>\n",
              "      <td>1</td>\n",
              "      <td>0</td>\n",
              "    </tr>\n",
              "    <tr>\n",
              "      <th>2010-03-05</th>\n",
              "      <td>1.0</td>\n",
              "      <td>1.0</td>\n",
              "      <td>19403.54</td>\n",
              "      <td>0.0</td>\n",
              "      <td>0.0</td>\n",
              "      <td>0.0</td>\n",
              "      <td>0.0</td>\n",
              "      <td>0.0</td>\n",
              "      <td>1</td>\n",
              "      <td>0</td>\n",
              "    </tr>\n",
              "    <tr>\n",
              "      <th>2010-03-12</th>\n",
              "      <td>1.0</td>\n",
              "      <td>1.0</td>\n",
              "      <td>21827.90</td>\n",
              "      <td>0.0</td>\n",
              "      <td>0.0</td>\n",
              "      <td>0.0</td>\n",
              "      <td>0.0</td>\n",
              "      <td>0.0</td>\n",
              "      <td>1</td>\n",
              "      <td>0</td>\n",
              "    </tr>\n",
              "  </tbody>\n",
              "</table>\n",
              "</div>"
            ],
            "text/plain": [
              "            Store  Dept  ...  IsHoliday_y_False  IsHoliday_y_True\n",
              "Date                     ...                                     \n",
              "2010-02-12    1.0   1.0  ...                  1                 0\n",
              "2010-02-19    1.0   1.0  ...                  0                 1\n",
              "2010-02-26    1.0   1.0  ...                  1                 0\n",
              "2010-03-05    1.0   1.0  ...                  1                 0\n",
              "2010-03-12    1.0   1.0  ...                  1                 0\n",
              "\n",
              "[5 rows x 10 columns]"
            ]
          },
          "metadata": {
            "tags": []
          },
          "execution_count": 23
        }
      ]
    },
    {
      "cell_type": "code",
      "metadata": {
        "id": "L6T9B1WJZnlt",
        "colab": {
          "base_uri": "https://localhost:8080/",
          "height": 235
        },
        "outputId": "68b4385e-6b09-4d2f-e3ca-5e9ce3dd192b"
      },
      "source": [
        "X_teste = pd.get_dummies(X_teste)\n",
        "X_teste.head()"
      ],
      "execution_count": 24,
      "outputs": [
        {
          "output_type": "execute_result",
          "data": {
            "text/html": [
              "<div>\n",
              "<style scoped>\n",
              "    .dataframe tbody tr th:only-of-type {\n",
              "        vertical-align: middle;\n",
              "    }\n",
              "\n",
              "    .dataframe tbody tr th {\n",
              "        vertical-align: top;\n",
              "    }\n",
              "\n",
              "    .dataframe thead th {\n",
              "        text-align: right;\n",
              "    }\n",
              "</style>\n",
              "<table border=\"1\" class=\"dataframe\">\n",
              "  <thead>\n",
              "    <tr style=\"text-align: right;\">\n",
              "      <th></th>\n",
              "      <th>Store</th>\n",
              "      <th>Dept</th>\n",
              "      <th>Weekly_Sales</th>\n",
              "      <th>MarkDown1</th>\n",
              "      <th>MarkDown2</th>\n",
              "      <th>MarkDown3</th>\n",
              "      <th>MarkDown4</th>\n",
              "      <th>MarkDown5</th>\n",
              "      <th>IsHoliday_y_False</th>\n",
              "      <th>IsHoliday_y_True</th>\n",
              "    </tr>\n",
              "    <tr>\n",
              "      <th>Date</th>\n",
              "      <th></th>\n",
              "      <th></th>\n",
              "      <th></th>\n",
              "      <th></th>\n",
              "      <th></th>\n",
              "      <th></th>\n",
              "      <th></th>\n",
              "      <th></th>\n",
              "      <th></th>\n",
              "      <th></th>\n",
              "    </tr>\n",
              "  </thead>\n",
              "  <tbody>\n",
              "    <tr>\n",
              "      <th>2010-02-12</th>\n",
              "      <td>23.0</td>\n",
              "      <td>1.0</td>\n",
              "      <td>32452.79</td>\n",
              "      <td>0.0</td>\n",
              "      <td>0.0</td>\n",
              "      <td>0.0</td>\n",
              "      <td>0.0</td>\n",
              "      <td>0.0</td>\n",
              "      <td>1</td>\n",
              "      <td>0</td>\n",
              "    </tr>\n",
              "    <tr>\n",
              "      <th>2010-02-19</th>\n",
              "      <td>23.0</td>\n",
              "      <td>1.0</td>\n",
              "      <td>50360.71</td>\n",
              "      <td>0.0</td>\n",
              "      <td>0.0</td>\n",
              "      <td>0.0</td>\n",
              "      <td>0.0</td>\n",
              "      <td>0.0</td>\n",
              "      <td>0</td>\n",
              "      <td>1</td>\n",
              "    </tr>\n",
              "    <tr>\n",
              "      <th>2010-02-26</th>\n",
              "      <td>23.0</td>\n",
              "      <td>1.0</td>\n",
              "      <td>28504.70</td>\n",
              "      <td>0.0</td>\n",
              "      <td>0.0</td>\n",
              "      <td>0.0</td>\n",
              "      <td>0.0</td>\n",
              "      <td>0.0</td>\n",
              "      <td>1</td>\n",
              "      <td>0</td>\n",
              "    </tr>\n",
              "    <tr>\n",
              "      <th>2010-03-05</th>\n",
              "      <td>23.0</td>\n",
              "      <td>1.0</td>\n",
              "      <td>23033.73</td>\n",
              "      <td>0.0</td>\n",
              "      <td>0.0</td>\n",
              "      <td>0.0</td>\n",
              "      <td>0.0</td>\n",
              "      <td>0.0</td>\n",
              "      <td>1</td>\n",
              "      <td>0</td>\n",
              "    </tr>\n",
              "    <tr>\n",
              "      <th>2010-03-12</th>\n",
              "      <td>23.0</td>\n",
              "      <td>1.0</td>\n",
              "      <td>29662.30</td>\n",
              "      <td>0.0</td>\n",
              "      <td>0.0</td>\n",
              "      <td>0.0</td>\n",
              "      <td>0.0</td>\n",
              "      <td>0.0</td>\n",
              "      <td>1</td>\n",
              "      <td>0</td>\n",
              "    </tr>\n",
              "  </tbody>\n",
              "</table>\n",
              "</div>"
            ],
            "text/plain": [
              "            Store  Dept  ...  IsHoliday_y_False  IsHoliday_y_True\n",
              "Date                     ...                                     \n",
              "2010-02-12   23.0   1.0  ...                  1                 0\n",
              "2010-02-19   23.0   1.0  ...                  0                 1\n",
              "2010-02-26   23.0   1.0  ...                  1                 0\n",
              "2010-03-05   23.0   1.0  ...                  1                 0\n",
              "2010-03-12   23.0   1.0  ...                  1                 0\n",
              "\n",
              "[5 rows x 10 columns]"
            ]
          },
          "metadata": {
            "tags": []
          },
          "execution_count": 24
        }
      ]
    },
    {
      "cell_type": "code",
      "metadata": {
        "colab": {
          "base_uri": "https://localhost:8080/"
        },
        "id": "FG-HE9N7WIhq",
        "outputId": "80cbcbe5-649e-4308-b932-22cd0a84455c"
      },
      "source": [
        "X_teste.isna().mean()"
      ],
      "execution_count": 27,
      "outputs": [
        {
          "output_type": "execute_result",
          "data": {
            "text/plain": [
              "Store                0.0\n",
              "Dept                 0.0\n",
              "Weekly_Sales         0.0\n",
              "MarkDown1            0.0\n",
              "MarkDown2            0.0\n",
              "MarkDown3            0.0\n",
              "MarkDown4            0.0\n",
              "MarkDown5            0.0\n",
              "IsHoliday_y_False    0.0\n",
              "IsHoliday_y_True     0.0\n",
              "dtype: float64"
            ]
          },
          "metadata": {
            "tags": []
          },
          "execution_count": 27
        }
      ]
    },
    {
      "cell_type": "code",
      "metadata": {
        "id": "DRcMcXVUZ0gI",
        "colab": {
          "base_uri": "https://localhost:8080/"
        },
        "outputId": "d889de9d-b3bb-4143-f27d-27e046a0f4c0"
      },
      "source": [
        "X_train.isna().mean()"
      ],
      "execution_count": 28,
      "outputs": [
        {
          "output_type": "execute_result",
          "data": {
            "text/plain": [
              "Store                0.0\n",
              "Dept                 0.0\n",
              "Weekly_Sales         0.0\n",
              "MarkDown1            0.0\n",
              "MarkDown2            0.0\n",
              "MarkDown3            0.0\n",
              "MarkDown4            0.0\n",
              "MarkDown5            0.0\n",
              "IsHoliday_y_False    0.0\n",
              "IsHoliday_y_True     0.0\n",
              "dtype: float64"
            ]
          },
          "metadata": {
            "tags": []
          },
          "execution_count": 28
        }
      ]
    },
    {
      "cell_type": "code",
      "metadata": {
        "id": "5hAXfVoLZTCF",
        "outputId": "270ca23c-333d-4f65-fe34-31d3c5565475",
        "colab": {
          "base_uri": "https://localhost:8080/",
          "height": 391
        }
      },
      "source": [
        "plt.figure(figsize=(10, 6))\n",
        "plt.scatter(X_train['IsHoliday_y_True'],X_train['Weekly_Sales'], alpha=0.2)"
      ],
      "execution_count": 36,
      "outputs": [
        {
          "output_type": "execute_result",
          "data": {
            "text/plain": [
              "<matplotlib.collections.PathCollection at 0x7fd4c5de2390>"
            ]
          },
          "metadata": {
            "tags": []
          },
          "execution_count": 36
        },
        {
          "output_type": "display_data",
          "data": {
            "image/png": "[encoded data removed]",
            "text/plain": [
              "<Figure size 720x432 with 1 Axes>"
            ]
          },
          "metadata": {
            "tags": [],
            "needs_background": "light"
          }
        }
      ]
    },
    {
      "cell_type": "code",
      "metadata": {
        "colab": {
          "base_uri": "https://localhost:8080/"
        },
        "id": "Mu30T55y8LCA",
        "outputId": "992a125b-a05f-4728-98c5-1c46151adb22"
      },
      "source": [
        "reg = LinearRegression()\n",
        "reg.fit(X_train,y_train)"
      ],
      "execution_count": 32,
      "outputs": [
        {
          "output_type": "execute_result",
          "data": {
            "text/plain": [
              "LinearRegression(copy_X=True, fit_intercept=True, n_jobs=None, normalize=False)"
            ]
          },
          "metadata": {
            "tags": []
          },
          "execution_count": 32
        }
      ]
    },
    {
      "cell_type": "code",
      "metadata": {
        "id": "879cRFuo8M51"
      },
      "source": [
        "result_Xteste = reg.predict(X_teste)"
      ],
      "execution_count": 33,
      "outputs": []
    },
    {
      "cell_type": "code",
      "metadata": {
        "id": "8oZ4gCvmYoaM"
      },
      "source": [
        "#result_Xtrain = reg.predict(X_train)"
      ],
      "execution_count": null,
      "outputs": []
    },
    {
      "cell_type": "code",
      "metadata": {
        "colab": {
          "base_uri": "https://localhost:8080/"
        },
        "id": "GOoBNIDh1P_l",
        "outputId": "61a2788a-2eea-4a01-a87c-2876b1021b23"
      },
      "source": [
        "result_Xteste"
      ],
      "execution_count": 34,
      "outputs": [
        {
          "output_type": "execute_result",
          "data": {
            "text/plain": [
              "array([[31397.73944193],\n",
              "       [47426.80347171],\n",
              "       [27664.84695981],\n",
              "       ...,\n",
              "       [ 1895.29219989],\n",
              "       [ 2382.60756789],\n",
              "       [ 1929.15530315]])"
            ]
          },
          "metadata": {
            "tags": []
          },
          "execution_count": 34
        }
      ]
    },
    {
      "cell_type": "code",
      "metadata": {
        "id": "9P4wdFcVoiJ9",
        "colab": {
          "base_uri": "https://localhost:8080/"
        },
        "outputId": "8ff62985-2972-4245-94bf-9f04b6d61a7b"
      },
      "source": [
        "#result_Xtrain"
      ],
      "execution_count": null,
      "outputs": [
        {
          "output_type": "execute_result",
          "data": {
            "text/plain": [
              "array([[24336.71038135],\n",
              "       [43398.03747823],\n",
              "       [40099.07578181],\n",
              "       ...,\n",
              "       [ 1690.2577492 ],\n",
              "       [ 1752.69546707],\n",
              "       [ 1433.24353461]])"
            ]
          },
          "metadata": {
            "tags": []
          },
          "execution_count": 101
        }
      ]
    },
    {
      "cell_type": "code",
      "metadata": {
        "id": "M6vUd9d73lxS",
        "colab": {
          "base_uri": "https://localhost:8080/"
        },
        "outputId": "f3ebde22-0aed-404f-f105-d7c27b112ef1"
      },
      "source": [
        "# Utilizando R2 para medir a performance do modelo\n",
        "r2_score(y_teste, result_Xteste)"
      ],
      "execution_count": 35,
      "outputs": [
        {
          "output_type": "execute_result",
          "data": {
            "text/plain": [
              "0.890660380138579"
            ]
          },
          "metadata": {
            "tags": []
          },
          "execution_count": 35
        }
      ]
    },
    {
      "cell_type": "code",
      "metadata": {
        "id": "1XG1_iTUrZDZ",
        "colab": {
          "base_uri": "https://localhost:8080/"
        },
        "outputId": "2a8a1ffd-5020-4228-801b-a08079a7d0d3"
      },
      "source": [
        "r2_score(y_train, result_Xtrain)"
      ],
      "execution_count": null,
      "outputs": [
        {
          "output_type": "execute_result",
          "data": {
            "text/plain": [
              "0.8951446513494363"
            ]
          },
          "metadata": {
            "tags": []
          },
          "execution_count": 105
        }
      ]
    }
  ]
}